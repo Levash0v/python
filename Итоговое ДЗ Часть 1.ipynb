{
 "cells": [
  {
   "cell_type": "code",
   "execution_count": 8,
   "id": "5846929b",
   "metadata": {},
   "outputs": [],
   "source": [
    "import pandas as pd\n",
    "import re"
   ]
  },
  {
   "cell_type": "markdown",
   "id": "75920485",
   "metadata": {},
   "source": [
    "Загружаю данные, добавляю функцию production_year, которая каждой строке из названия фильма выставляет год выпуска из столбца title, используя следующий алгоритм:\n",
    "для каждой строки датафрейма и списка years:\n",
    "если номер года из списка years присутствует в названии фильма, то функция возвращает этот год как год выпуска;\n",
    "если ни один из номеров года списка years не встретился в названии фильма, то возвращается 1900 год."
   ]
  },
  {
   "cell_type": "code",
   "execution_count": 9,
   "id": "d0eaf7e1",
   "metadata": {},
   "outputs": [],
   "source": [
    "df = pd.read_csv('movies_stats.csv')\n",
    "\n",
    "def production_year(data):\n",
    "    years = []\n",
    "    for i in range(1950, 2011):\n",
    "        years.append(str(i))\n",
    "\n",
    "    for lst in re.findall(r'\\d{4}', data):\n",
    "        if lst in years:\n",
    "            return lst\n",
    "        else: return '1900'\n",
    "\n",
    "# добавляю год выпуска фильма по алгоритму функции в новый столбец ‘year’        \n",
    "df['year'] = df['title'].apply(production_year)"
   ]
  },
  {
   "cell_type": "markdown",
   "id": "51e35aeb",
   "metadata": {},
   "source": [
    "считаю средний рейтинг всех фильмов для каждого значения столбца ‘year’ и отсортировываю результат по убыванию рейтинга"
   ]
  },
  {
   "cell_type": "code",
   "execution_count": 10,
   "id": "f4cde8e4",
   "metadata": {},
   "outputs": [
    {
     "data": {
      "text/plain": [
       "year\n",
       "1957    4.014241\n",
       "1972    4.011136\n",
       "1952    4.000000\n",
       "1974    3.999058\n",
       "1954    3.994220\n",
       "          ...   \n",
       "2005    3.448434\n",
       "2003    3.445843\n",
       "1996    3.422675\n",
       "1997    3.416934\n",
       "2000    3.353602\n",
       "Name: rating, Length: 62, dtype: float64"
      ]
     },
     "execution_count": 10,
     "metadata": {},
     "output_type": "execute_result"
    }
   ],
   "source": [
    "df.groupby('year')['rating'].mean().sort_values(ascending=False)"
   ]
  },
  {
   "cell_type": "code",
   "execution_count": null,
   "id": "cff7dcda",
   "metadata": {},
   "outputs": [],
   "source": []
  }
 ],
 "metadata": {
  "kernelspec": {
   "display_name": "Python 3 (ipykernel)",
   "language": "python",
   "name": "python3"
  },
  "language_info": {
   "codemirror_mode": {
    "name": "ipython",
    "version": 3
   },
   "file_extension": ".py",
   "mimetype": "text/x-python",
   "name": "python",
   "nbconvert_exporter": "python",
   "pygments_lexer": "ipython3",
   "version": "3.11.5"
  }
 },
 "nbformat": 4,
 "nbformat_minor": 5
}
